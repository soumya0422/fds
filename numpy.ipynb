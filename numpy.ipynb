{
  "nbformat": 4,
  "nbformat_minor": 0,
  "metadata": {
    "colab": {
      "provenance": [],
      "authorship_tag": "ABX9TyMJqul7DyJ+6nMi5XYdec1W",
      "include_colab_link": true
    },
    "kernelspec": {
      "name": "python3",
      "display_name": "Python 3"
    },
    "language_info": {
      "name": "python"
    }
  },
  "cells": [
    {
      "cell_type": "markdown",
      "metadata": {
        "id": "view-in-github",
        "colab_type": "text"
      },
      "source": [
        "<a href=\"https://colab.research.google.com/github/soumya0422/fds/blob/main/numpy.ipynb\" target=\"_parent\"><img src=\"https://colab.research.google.com/assets/colab-badge.svg\" alt=\"Open In Colab\"/></a>"
      ]
    },
    {
      "cell_type": "code",
      "source": [
        "#Numpy program to get the Numpy version.\n",
        "import numpy as np\n",
        "print (np.__version__);"
      ],
      "metadata": {
        "colab": {
          "base_uri": "https://localhost:8080/"
        },
        "id": "tlv5ln4JURmk",
        "outputId": "4b329ecf-5fe7-4d8d-b3c8-44c7545b2167"
      },
      "execution_count": null,
      "outputs": [
        {
          "output_type": "stream",
          "name": "stdout",
          "text": [
            "1.25.2\n"
          ]
        }
      ]
    },
    {
      "cell_type": "code",
      "source": [
        "#NumPy program to test whether none of the elements of a given array are zero.\n",
        "import numpy as np\n",
        "x=np.array([1,2,0,6]);\n",
        "print(np.all(x));"
      ],
      "metadata": {
        "colab": {
          "base_uri": "https://localhost:8080/"
        },
        "id": "1she_XJXUbvy",
        "outputId": "b6494cc0-3b59-4617-8017-818fc3fb0687"
      },
      "execution_count": null,
      "outputs": [
        {
          "output_type": "stream",
          "name": "stdout",
          "text": [
            "False\n"
          ]
        }
      ]
    },
    {
      "cell_type": "code",
      "source": [
        "#NumPy program to create an element-wise comparison (greater, greater_equal, less and less_equal) of two given arrays.\n",
        "import pandas as pd\n",
        "p=np.array([3,4]);\n",
        "q=np.array([7,8]);\n",
        "print(np.greater(p,q));\n",
        "print(np.greater_equal(p,q));\n",
        "print(np.less(p,q));\n",
        "print(np.less_equal(p,q));"
      ],
      "metadata": {
        "colab": {
          "base_uri": "https://localhost:8080/"
        },
        "id": "2O8Cgej9VJO9",
        "outputId": "cf64ae9c-8a5d-40a5-c63b-20019796fb21"
      },
      "execution_count": 5,
      "outputs": [
        {
          "output_type": "stream",
          "name": "stdout",
          "text": [
            "[False False]\n",
            "[False False]\n",
            "[ True  True]\n",
            "[ True  True]\n"
          ]
        }
      ]
    },
    {
      "cell_type": "code",
      "source": [
        "#NumPy program to create an array with the values 1, 7, 13, 105 and determine the size of the memory occupied by the array.\n",
        "import pandas as pd\n",
        "arr1=[1,7,13,105];\n",
        "arr=np.array(arr1);\n",
        "print(\"memory size of array:\"+str(arr.itemsize*arr.size));\n",
        "print(arr);"
      ],
      "metadata": {
        "colab": {
          "base_uri": "https://localhost:8080/"
        },
        "id": "Yt9pp_KBVqXZ",
        "outputId": "317d638d-f4cc-4c01-fe12-307dcbd68644"
      },
      "execution_count": null,
      "outputs": [
        {
          "output_type": "stream",
          "name": "stdout",
          "text": [
            "memory size of array:32\n",
            "[  1   7  13 105]\n"
          ]
        }
      ]
    },
    {
      "cell_type": "code",
      "source": [
        "#NumPy program to create an array of integers from 30 to 70.\n",
        "import numpy as np\n",
        "b=[];\n",
        "for j in range(30,71):\n",
        "  n=j;\n",
        "  b.append(n);\n",
        "arr=np.array(b);\n",
        "print(arr);"
      ],
      "metadata": {
        "colab": {
          "base_uri": "https://localhost:8080/"
        },
        "id": "GBiEKy27WId4",
        "outputId": "e818abd8-6996-4fa5-ca83-5a7e34592321"
      },
      "execution_count": null,
      "outputs": [
        {
          "output_type": "stream",
          "name": "stdout",
          "text": [
            "[30 31 32 33 34 35 36 37 38 39 40 41 42 43 44 45 46 47 48 49 50 51 52 53\n",
            " 54 55 56 57 58 59 60 61 62 63 64 65 66 67 68 69 70]\n"
          ]
        }
      ]
    },
    {
      "cell_type": "code",
      "source": [
        "#NumPy program to create an array of all even integers from 30 to 70.\n",
        "import numpy as np\n",
        "a=[];\n",
        "for i in range(15,36):\n",
        "  m=2*i;\n",
        "  a.append(m);\n",
        "arr=np.array(a);\n",
        "print(arr);"
      ],
      "metadata": {
        "colab": {
          "base_uri": "https://localhost:8080/"
        },
        "id": "RQBO5YHIWox6",
        "outputId": "d32e262f-1f2e-4bdb-af52-2b2b29bc607c"
      },
      "execution_count": null,
      "outputs": [
        {
          "output_type": "stream",
          "name": "stdout",
          "text": [
            "[30 32 34 36 38 40 42 44 46 48 50 52 54 56 58 60 62 64 66 68 70]\n"
          ]
        }
      ]
    },
    {
      "cell_type": "code",
      "source": [
        "#NumPy program to create a 3x3 identity matrix.\n",
        "import numpy as np\n",
        "i=np.identity(3);\n",
        "print(i);\n",
        "#NumPy program to create a 3X4 array and iterate over it.\n",
        "a = np.arange(10,22).reshape((3, 4));\n",
        "print(\"Original array:\");\n",
        "print(a);\n",
        "print(\"Each element of the array is:\");\n",
        "for x in np.nditer(a):\n",
        "  print(x,end=\" \");"
      ],
      "metadata": {
        "colab": {
          "base_uri": "https://localhost:8080/"
        },
        "id": "v9o1o2A0XWb0",
        "outputId": "4f97e873-db8b-4896-b45f-8636083e8f74"
      },
      "execution_count": 4,
      "outputs": [
        {
          "output_type": "stream",
          "name": "stdout",
          "text": [
            "[[1. 0. 0.]\n",
            " [0. 1. 0.]\n",
            " [0. 0. 1.]]\n",
            "Original array:\n",
            "[[10 11 12 13]\n",
            " [14 15 16 17]\n",
            " [18 19 20 21]]\n",
            "Each element of the array is:\n",
            "10 11 12 13 14 15 16 17 18 19 20 21 "
          ]
        }
      ]
    }
  ]
}