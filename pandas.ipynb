{
  "nbformat": 4,
  "nbformat_minor": 0,
  "metadata": {
    "colab": {
      "provenance": [],
      "authorship_tag": "ABX9TyNe0PixoBgJ71Og9MDlLdsL",
      "include_colab_link": true
    },
    "kernelspec": {
      "name": "python3",
      "display_name": "Python 3"
    },
    "language_info": {
      "name": "python"
    }
  },
  "cells": [
    {
      "cell_type": "markdown",
      "metadata": {
        "id": "view-in-github",
        "colab_type": "text"
      },
      "source": [
        "<a href=\"https://colab.research.google.com/github/soumya0422/fds/blob/main/pandas.ipynb\" target=\"_parent\"><img src=\"https://colab.research.google.com/assets/colab-badge.svg\" alt=\"Open In Colab\"/></a>"
      ]
    },
    {
      "cell_type": "code",
      "source": [
        "#Pandas program to create a dataframe from a dictionary and display it.\n",
        "import pandas as pd\n",
        "data={\n",
        "    \"X\":[78,85,96,80,86],\n",
        "    \"Y\":[84,94,89,83,86],\n",
        "    \"z\":[86,97,96,72,83]\n",
        "}\n",
        "df=pd.DataFrame(data);\n",
        "print(df);"
      ],
      "metadata": {
        "colab": {
          "base_uri": "https://localhost:8080/"
        },
        "id": "lBR2TEqmNIaq",
        "outputId": "7a427c43-ae6e-4d82-edf6-19aec3da40a1"
      },
      "execution_count": null,
      "outputs": [
        {
          "output_type": "stream",
          "name": "stdout",
          "text": [
            "    X   Y   z\n",
            "0  78  84  86\n",
            "1  85  94  97\n",
            "2  96  89  96\n",
            "3  80  83  72\n",
            "4  86  86  83\n"
          ]
        }
      ]
    },
    {
      "cell_type": "code",
      "source": [
        "#Pandas program to create and display a DataFrame from a specified dictionary data which has the index labels.\n",
        "import pandas as pd\n",
        "import numpy as np\n",
        "exam_data={\n",
        "    \"attempts\":[1,3,2,3,2,3,1,1,2,1],\n",
        "    \"name\":[\"Anastasia\",\"Dima\",\"Katherine\",\"James\",\"Emily\",\"michael\",\"Mathew\",\"Laura\",\"Kevin\",\"Jonas\"],\n",
        "    \"qualify\":[\"yes\",\"no\",\"yes\",\"no\",\"no\",\"yes\",\"yes\",\"no\",\"no\",\"yes\"],\n",
        "    \"score\":[12.5,9,16.5,np.nan,9,20,14.5,np.nan,8,19]\n",
        "}\n",
        "df=pd.DataFrame(exam_data,index=[\"a\",'b','c','d','e','f','g','h','i','j']);\n",
        "print(df);"
      ],
      "metadata": {
        "colab": {
          "base_uri": "https://localhost:8080/"
        },
        "id": "XeHBdt6wOUw4",
        "outputId": "350a2175-d0e8-4c7f-8dcf-d88af57f668e"
      },
      "execution_count": 1,
      "outputs": [
        {
          "output_type": "stream",
          "name": "stdout",
          "text": [
            "   attempts       name qualify  score\n",
            "a         1  Anastasia     yes   12.5\n",
            "b         3       Dima      no    9.0\n",
            "c         2  Katherine     yes   16.5\n",
            "d         3      James      no    NaN\n",
            "e         2      Emily      no    9.0\n",
            "f         3    michael     yes   20.0\n",
            "g         1     Mathew     yes   14.5\n",
            "h         1      Laura      no    NaN\n",
            "i         2      Kevin      no    8.0\n",
            "j         1      Jonas     yes   19.0\n"
          ]
        }
      ]
    },
    {
      "cell_type": "code",
      "source": [
        "#Pandas program to get the first 3 rows of a given DataFrame.\n",
        "import pandas as pd\n",
        "import numpy as np\n",
        "exam_data={\n",
        "    \"attempts\":[1,3,2,3,2,3,1,1,2,1],\n",
        "    \"name\":[\"Anastasia\",\"Dima\",\"Katherine\",\"James\",\"Emily\",\"michael\",\"Mathew\",\"Laura\",\"Kevin\",\"Jonas\"],\n",
        "    \"qualify\":[\"yes\",\"no\",\"yes\",\"no\",\"no\",\"yes\",\"yes\",\"no\",\"no\",\"yes\"],\n",
        "    \"score\":[12.5,9,16.5,np.nan,9,20,14.5,np.nan,8,19]\n",
        "}\n",
        "df=pd.DataFrame(exam_data,index=[\"a\",'b','c','d','e','f','g','h','i','j']);\n",
        "print(df.iloc[:3]);"
      ],
      "metadata": {
        "colab": {
          "base_uri": "https://localhost:8080/"
        },
        "id": "zU5FvpH2PdaV",
        "outputId": "2bebf2d5-51c6-4efd-9a9e-e385208c5157"
      },
      "execution_count": 2,
      "outputs": [
        {
          "output_type": "stream",
          "name": "stdout",
          "text": [
            "   attempts       name qualify  score\n",
            "a         1  Anastasia     yes   12.5\n",
            "b         3       Dima      no    9.0\n",
            "c         2  Katherine     yes   16.5\n"
          ]
        }
      ]
    },
    {
      "cell_type": "code",
      "source": [
        "#Pandas program to select the 'name' and 'score' columns from the following DataFrame.\n",
        "import pandas as pd\n",
        "import numpy as np\n",
        "exam_data={\n",
        "    \"attempts\":[1,3,2,3,2,3,1,1,2,1],\n",
        "    \"name\":[\"Anastasia\",\"Dima\",\"Katherine\",\"James\",\"Emily\",\"michael\",\"Mathew\",\"Laura\",\"Kevin\",\"Jonas\"],\n",
        "    \"qualify\":[\"yes\",\"no\",\"yes\",\"no\",\"no\",\"yes\",\"yes\",\"no\",\"no\",\"yes\"],\n",
        "    \"score\":[12.5,9,16.5,np.nan,9,20,14.5,np.nan,8,19]\n",
        "}\n",
        "df=pd.DataFrame(exam_data,index=[\"a\",'b','c','d','e','f','g','h','i','j']);\n",
        "print(\"Selected specific columns:\")\n",
        "print(df[[\"name\",\"score\"]]);"
      ],
      "metadata": {
        "colab": {
          "base_uri": "https://localhost:8080/"
        },
        "id": "-27G2lgPP01T",
        "outputId": "b93d5a9e-d670-4e52-9579-c438392146d9"
      },
      "execution_count": 6,
      "outputs": [
        {
          "output_type": "stream",
          "name": "stdout",
          "text": [
            "Selected specific columns:\n",
            "        name  score\n",
            "a  Anastasia   12.5\n",
            "b       Dima    9.0\n",
            "c  Katherine   16.5\n",
            "d      James    NaN\n",
            "e      Emily    9.0\n",
            "f    michael   20.0\n",
            "g     Mathew   14.5\n",
            "h      Laura    NaN\n",
            "i      Kevin    8.0\n",
            "j      Jonas   19.0\n"
          ]
        }
      ]
    },
    {
      "cell_type": "code",
      "source": [
        "#Pandas program to select the rows where the number of attempts in the examination is greater than 2.\n",
        "import pandas as pd\n",
        "import numpy as np\n",
        "exam_data={\n",
        "    \"attempts\":[1,3,2,3,2,3,1,1,2,1],\n",
        "    \"name\":[\"Anastasia\",\"Dima\",\"Katherine\",\"James\",\"Emily\",\"michael\",\"Mathew\",\"Laura\",\"Kevin\",\"Jonas\"],\n",
        "    \"qualify\":[\"yes\",\"no\",\"yes\",\"no\",\"no\",\"yes\",\"yes\",\"no\",\"no\",\"yes\"],\n",
        "    \"score\":[12.5,9,16.5,np.nan,9,20,14.5,np.nan,8,19]\n",
        "}\n",
        "df=pd.DataFrame(exam_data,index=[\"a\",'b','c','d','e','f','g','h','i','j']);\n",
        "print(df[df[\"attempts\"]>2]);"
      ],
      "metadata": {
        "colab": {
          "base_uri": "https://localhost:8080/"
        },
        "id": "Xtwr3tkNQfKt",
        "outputId": "87fddcb2-70ab-4796-b460-cb65d5657865"
      },
      "execution_count": null,
      "outputs": [
        {
          "output_type": "stream",
          "name": "stdout",
          "text": [
            "   attempts     name qualify  score\n",
            "b         3     Dima      no    9.0\n",
            "d         3    James      no    NaN\n",
            "f         3  michael     yes   20.0\n"
          ]
        }
      ]
    },
    {
      "cell_type": "code",
      "source": [
        "#Pandas program to select the rows where the score is missing, i.e. is NaN.\n",
        "import pandas as pd\n",
        "import numpy as np\n",
        "exam_data={\n",
        "    \"attempts\":[1,3,2,3,2,3,1,1,2,1],\n",
        "    \"name\":[\"Anastasia\",\"Dima\",\"Katherine\",\"James\",\"Emily\",\"michael\",\"Mathew\",\"Laura\",\"Kevin\",\"Jonas\"],\n",
        "    \"qualify\":[\"yes\",\"no\",\"yes\",\"no\",\"no\",\"yes\",\"yes\",\"no\",\"no\",\"yes\"],\n",
        "    \"score\":[12.5,9,16.5,np.nan,9,20,14.5,np.nan,8,19]\n",
        "}\n",
        "df=pd.DataFrame(exam_data,index=[\"a\",'b','c','d','e','f','g','h','i','j']);\n",
        "print(df[df['score'].isnull()]);"
      ],
      "metadata": {
        "colab": {
          "base_uri": "https://localhost:8080/"
        },
        "id": "_hJBdTKrQ_Uq",
        "outputId": "17caa0cb-c099-4fb7-fe62-d9d498d23cfa"
      },
      "execution_count": 3,
      "outputs": [
        {
          "output_type": "stream",
          "name": "stdout",
          "text": [
            "   attempts   name qualify  score\n",
            "d         3  James      no    NaN\n",
            "h         1  Laura      no    NaN\n"
          ]
        }
      ]
    },
    {
      "cell_type": "code",
      "source": [
        "#Pandas program to calculate the mean of all students 'scores'. Data is stored in a dataframe.\n",
        "import pandas as pd\n",
        "import numpy as np\n",
        "exam_data={\n",
        "    \"attempts\":[1,3,2,3,2,3,1,1,2,1],\n",
        "    \"name\":[\"Anastasia\",\"Dima\",\"Katherine\",\"James\",\"Emily\",\"michael\",\"Mathew\",\"Laura\",\"Kevin\",\"Jonas\"],\n",
        "    \"qualify\":[\"yes\",\"no\",\"yes\",\"no\",\"no\",\"yes\",\"yes\",\"no\",\"no\",\"yes\"],\n",
        "    \"score\":[12.5,9,16.5,np.nan,9,20,14.5,np.nan,8,19]\n",
        "}\n",
        "df=pd.DataFrame(exam_data,index=[\"a\",'b','c','d','e','f','g','h','i','j']);\n",
        "print(\"Mean of the score is:\");\n",
        "print(df['score'].mean());"
      ],
      "metadata": {
        "colab": {
          "base_uri": "https://localhost:8080/"
        },
        "id": "95uZNd9yRNRW",
        "outputId": "d1e52517-1808-4ce4-9f1a-495544ecb782"
      },
      "execution_count": null,
      "outputs": [
        {
          "output_type": "stream",
          "name": "stdout",
          "text": [
            "Mean of the score is:\n",
            "13.5625\n"
          ]
        }
      ]
    },
    {
      "cell_type": "code",
      "source": [
        "#Pandas program to append rows to an existing DataFrame and display the combined data.\n",
        "import pandas as pd\n",
        "data1={\n",
        "    \"student_id\":[\"S4\",\"S5\",\"S6\",\"S7\",\"S8\"],\n",
        "    \"name\":[\"Danniela Fenton\",\"Ryder Storey\",\"Bryce Jansen\",\"Ed Bernal\",\"Kwame Morin\"],\n",
        "    \"marks\":[200,210,190,222,199]\n",
        "}\n",
        "data2={\n",
        "    \"student_id\":[\"S1\",\"S2\",\"S3\",\"S4\",\"S5\"],\n",
        "    \"name\":[\"Scarlette Fisher\",\"Carla Wiiliamson\",\"Dante Morse\",\"Kaiser Wiiliam\",\"Madeeha Preston\"],\n",
        "    \"marks\":[201,200,198,219,201]\n",
        "}\n",
        "df1=pd.DataFrame(data1);\n",
        "df2=pd.DataFrame(data2);\n",
        "cdf=pd.concat([df1,df2],ignore_index=True);\n",
        "print(\"Oringinal dataframe\");\n",
        "print(df1);\n",
        "print(\"-----------------------------------\");\n",
        "print(df2);\n",
        "print(\"After Concatenation:\");\n",
        "print(cdf);"
      ],
      "metadata": {
        "colab": {
          "base_uri": "https://localhost:8080/"
        },
        "id": "u8169jhIRhHt",
        "outputId": "e34b6df8-d006-40a1-a70e-e6be95f6b54e"
      },
      "execution_count": 5,
      "outputs": [
        {
          "output_type": "stream",
          "name": "stdout",
          "text": [
            "Oringinal dataframe\n",
            "  student_id             name  marks\n",
            "0         S4  Danniela Fenton    200\n",
            "1         S5     Ryder Storey    210\n",
            "2         S6     Bryce Jansen    190\n",
            "3         S7        Ed Bernal    222\n",
            "4         S8      Kwame Morin    199\n",
            "-----------------------------------\n",
            "  student_id              name  marks\n",
            "0         S1  Scarlette Fisher    201\n",
            "1         S2  Carla Wiiliamson    200\n",
            "2         S3       Dante Morse    198\n",
            "3         S4    Kaiser Wiiliam    219\n",
            "4         S5   Madeeha Preston    201\n",
            "After Concatenation:\n",
            "  student_id              name  marks\n",
            "0         S4   Danniela Fenton    200\n",
            "1         S5      Ryder Storey    210\n",
            "2         S6      Bryce Jansen    190\n",
            "3         S7         Ed Bernal    222\n",
            "4         S8       Kwame Morin    199\n",
            "5         S1  Scarlette Fisher    201\n",
            "6         S2  Carla Wiiliamson    200\n",
            "7         S3       Dante Morse    198\n",
            "8         S4    Kaiser Wiiliam    219\n",
            "9         S5   Madeeha Preston    201\n"
          ]
        }
      ]
    },
    {
      "cell_type": "code",
      "source": [
        "#Pandas program to join the two given dataframes along columns\n",
        "and assign all data\n",
        "import pandas as pd\n",
        "data1={\n",
        "    \"student_id\":[\"S4\",\"S5\",\"S6\",\"S7\",\"S8\"],\n",
        "    \"name\":[\"Danniela Fenton\",\"Ryder Storey\",\"Bryce Jansen\",\"Ed Bernal\",\"Kwame Morin\"],\n",
        "    \"marks\":[200,210,190,222,199]\n",
        "}\n",
        "data2={\n",
        "    \"student_id\":[\"S1\",\"S2\",\"S3\",\"S4\",\"S5\"],\n",
        "    \"name\":[\"Scarlette Fisher\",\"Carla Wiiliamson\",\"Dante Morse\",\"Kaiser Wiiliam\",\"Madeeha Preston\"],\n",
        "    \"marks\":[201,200,198,219,201]\n",
        "}\n",
        "df1=pd.DataFrame(data1);\n",
        "df2=pd.DataFrame(data2);\n",
        "print(\"Oringinal dataframe\");\n",
        "print(df1);\n",
        "print(\"-----------------------------------\");\n",
        "print(df2);\n",
        "print(\"After Concatenation:\");\n",
        "rdf=pd.concat([df1,df2],axis=1);\n",
        "print(rdf);\n"
      ],
      "metadata": {
        "colab": {
          "base_uri": "https://localhost:8080/"
        },
        "id": "OBP7dU2jTG6w",
        "outputId": "1fa03ec8-d1ad-4f38-8660-e5c28ac5b58a"
      },
      "execution_count": null,
      "outputs": [
        {
          "output_type": "stream",
          "name": "stdout",
          "text": [
            "Oringinal dataframe\n",
            "  student_id             name  marks\n",
            "0         S4  Danniela Fenton    200\n",
            "1         S5     Ryder Storey    210\n",
            "2         S6     Bryce Jansen    190\n",
            "3         S7        Ed Bernal    222\n",
            "4         S8      Kwame Morin    199\n",
            "-----------------------------------\n",
            "  student_id              name  marks\n",
            "0         S1  Scarlette Fisher    201\n",
            "1         S2  Carla Wiiliamson    200\n",
            "2         S3       Dante Morse    198\n",
            "3         S4    Kaiser Wiiliam    219\n",
            "4         S5   Madeeha Preston    201\n",
            "After Concatenation:\n",
            "  student_id             name  marks student_id              name  marks\n",
            "0         S4  Danniela Fenton    200         S1  Scarlette Fisher    201\n",
            "1         S5     Ryder Storey    210         S2  Carla Wiiliamson    200\n",
            "2         S6     Bryce Jansen    190         S3       Dante Morse    198\n",
            "3         S7        Ed Bernal    222         S4    Kaiser Wiiliam    219\n",
            "4         S8      Kwame Morin    199         S5   Madeeha Preston    201\n"
          ]
        }
      ]
    },
    {
      "cell_type": "code",
      "source": [
        "#Pandas program to append rows to an existing DataFrame and display the combined data.\n",
        "import pandas as pd\n",
        "student_data1 = {\n",
        "    'student_id': ['S1', 'S2', 'S3', 'S4', 'S5'],\n",
        "    'name': ['Danniella Fenton', 'Ryder Storey', 'Bryce Jensen', 'Ed Bernal', 'Kwame Morin'],\n",
        "    'marks': [200, 210, 190, 222, 199]\n",
        "}\n",
        "df = pd.DataFrame(student_data1)\n",
        "new_row = pd.Series({'student_id': 'S6', 'name': 'Scarlette Fisher', 'marks': 205})\n",
        "df = df._append(new_row, ignore_index=True)\n",
        "print(\"Combined DataFrame:\")\n",
        "print(df)"
      ],
      "metadata": {
        "colab": {
          "base_uri": "https://localhost:8080/"
        },
        "id": "X0C8k_EsPvD8",
        "outputId": "711fe7f1-cd8b-4ec4-b9b9-3b8f1a5c9b20"
      },
      "execution_count": 4,
      "outputs": [
        {
          "output_type": "stream",
          "name": "stdout",
          "text": [
            "Combined DataFrame:\n",
            "  student_id              name  marks\n",
            "0         S1  Danniella Fenton    200\n",
            "1         S2      Ryder Storey    210\n",
            "2         S3      Bryce Jensen    190\n",
            "3         S4         Ed Bernal    222\n",
            "4         S5       Kwame Morin    199\n",
            "5         S6  Scarlette Fisher    205\n"
          ]
        }
      ]
    },
    {
      "cell_type": "code",
      "source": [
        "#Pandas program to display the dimensions or shape of the World alcohol consumption dataset. Also extract the column names from the dataset.\n",
        "import pandas as pd\n",
        "data = {\n",
        "    'Year': [1986, 1986, 1985, 1986, 1987],\n",
        "    'WHO region': ['Western Pacific', 'Americas', 'Africa', 'Americas', 'Americas'],\n",
        "    'Country': ['Viet Nam', 'Uruguay', \"Cte d'Ivoire\", 'Colombia', 'Saint Kitts and Nevis'],\n",
        "    'Beverage Types': ['Wine', 'Other', 'Wine', 'Beer', 'Beer'],\n",
        "    'Display Value': [0.00, 0.50, 1.62, 4.27, 1.98]\n",
        "}\n",
        "df = pd.DataFrame(data)\n",
        "dataset_shape = df.shape\n",
        "column_names = df.columns.tolist()\n",
        "print(\"Dimensions or shape of the dataset:\", dataset_shape)\n",
        "print(\"Column names of the dataset:\", column_names)"
      ],
      "metadata": {
        "colab": {
          "base_uri": "https://localhost:8080/"
        },
        "id": "PQI6_YrzPgKq",
        "outputId": "3e2de723-062f-4c8b-c169-93cd09a3f25f"
      },
      "execution_count": 7,
      "outputs": [
        {
          "output_type": "stream",
          "name": "stdout",
          "text": [
            "Dimensions or shape of the dataset: (5, 5)\n",
            "Column names of the dataset: ['Year', 'WHO region', 'Country', 'Beverage Types', 'Display Value']\n"
          ]
        }
      ]
    }
  ]
}